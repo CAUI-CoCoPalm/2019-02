{
 "cells": [
  {
   "cell_type": "code",
   "execution_count": 94,
   "metadata": {},
   "outputs": [],
   "source": [
    "import os\n",
    "import random\n",
    "import numpy as np\n",
    "import pandas as pd\n",
    "import pickle\n",
    "import gc\n",
    "\n",
    "import lightgbm as lgb\n",
    "from sklearn.ensemble import RandomForestClassifier\n",
    "from sklearn.model_selection import train_test_split, StratifiedKFold, KFold\n",
    "from sklearn.metrics import accuracy_score, confusion_matrix, roc_auc_score\n",
    "\n",
    "import warnings\n",
    "warnings.filterwarnings('ignore')"
   ]
  },
  {
   "cell_type": "code",
   "execution_count": 2,
   "metadata": {},
   "outputs": [],
   "source": [
    "def seed_everything(seed=0):\n",
    "    random.seed(seed)\n",
    "    os.environ['PYTHONHASHSEED'] = str(seed)\n",
    "    np.random.seed(seed)\n",
    "    \n",
    "SEED = 2019\n",
    "seed_everything(SEED)"
   ]
  },
  {
   "cell_type": "code",
   "execution_count": 3,
   "metadata": {},
   "outputs": [],
   "source": [
    "DATASET_PATH = './dataset/'\n",
    "actions = ['cClockwise', 'clockwise', 'left2right', 'right2left', 'up2down']\n",
    "\n",
    "for action in actions:\n",
    "    all_data = []\n",
    "    \n",
    "    for example in os.listdir(DATASET_PATH + action):\n",
    "        \n",
    "        # example == 1.txt\n",
    "        # action == cClockwise\n",
    "        \n",
    "        with open(DATASET_PATH + action + '/' + example, 'rb') as f:\n",
    "            data = pickle.load(f)\n",
    "            all_data.append(np.array(data).flatten().reshape(1, -1))\n",
    "\n",
    "    data_num = len(all_data)\n",
    "    \n",
    "    # data to dict\n",
    "    data_dict = {}\n",
    "    for i, data in enumerate(all_data):\n",
    "        data_dict[i] = data\n",
    "\n",
    "    # create empty dataframe\n",
    "    columns = [i for i in range(102)]\n",
    "    indices = [i for i in range(data_num)]\n",
    "    df = pd.DataFrame(columns=columns, index=indices)\n",
    "\n",
    "    for i in range(data_num):\n",
    "        df.loc[i] = data_dict[i]\n",
    "\n",
    "    df.to_csv('./dataset/{}_example.csv'.format(action), index=False)"
   ]
  },
  {
   "cell_type": "code",
   "execution_count": 4,
   "metadata": {},
   "outputs": [],
   "source": [
    "df1 = pd.read_csv('./dataset/cClockwise_example.csv')\n",
    "df2 = pd.read_csv('./dataset/clockwise_example.csv')\n",
    "df3 = pd.read_csv('./dataset/left2right_example.csv')\n",
    "df4 = pd.read_csv('./dataset/right2left_example.csv')\n",
    "df5 = pd.read_csv('./dataset/up2down_example.csv')"
   ]
  },
  {
   "cell_type": "code",
   "execution_count": 5,
   "metadata": {},
   "outputs": [],
   "source": [
    "df1['target'] = 4 # 반시계\n",
    "df2['target'] = 3 # 시계\n",
    "df3['target'] = 2 # 왼오\n",
    "df4['target'] = 1 # 오왼\n",
    "df5['target'] = 0 # 업다운"
   ]
  },
  {
   "cell_type": "code",
   "execution_count": 99,
   "metadata": {},
   "outputs": [],
   "source": [
    "df = pd.concat([df1, df2], axis=0)\n",
    "df = pd.concat([df, df3], axis=0)\n",
    "df = pd.concat([df, df4], axis=0)\n",
    "df = pd.concat([df, df5], axis=0)"
   ]
  },
  {
   "cell_type": "code",
   "execution_count": 100,
   "metadata": {},
   "outputs": [
    {
     "data": {
      "text/plain": [
       "0    1012\n",
       "3    1007\n",
       "1    1006\n",
       "2    1000\n",
       "4    1000\n",
       "Name: target, dtype: int64"
      ]
     },
     "execution_count": 100,
     "metadata": {},
     "output_type": "execute_result"
    }
   ],
   "source": [
    "df['target'].value_counts()"
   ]
  },
  {
   "cell_type": "code",
   "execution_count": 101,
   "metadata": {},
   "outputs": [],
   "source": [
    "df = df.sample(frac=1)"
   ]
  },
  {
   "cell_type": "code",
   "execution_count": 102,
   "metadata": {},
   "outputs": [],
   "source": [
    "df = df.reset_index(drop=True)"
   ]
  },
  {
   "cell_type": "code",
   "execution_count": 103,
   "metadata": {},
   "outputs": [],
   "source": [
    "train_num = int(len(df)*0.8)"
   ]
  },
  {
   "cell_type": "code",
   "execution_count": 104,
   "metadata": {},
   "outputs": [],
   "source": [
    "train_df = df[:train_num]\n",
    "test_df = df[train_num:]"
   ]
  },
  {
   "cell_type": "code",
   "execution_count": 105,
   "metadata": {},
   "outputs": [],
   "source": [
    "train_df[target] = train_df[target].astype('category')\n",
    "test_df[target] = test_df[target].astype('category')"
   ]
  },
  {
   "cell_type": "code",
   "execution_count": null,
   "metadata": {},
   "outputs": [],
   "source": []
  },
  {
   "cell_type": "code",
   "execution_count": 106,
   "metadata": {},
   "outputs": [],
   "source": [
    "bayesian_tr_idx, bayesian_val_idx = train_test_split(train_df, test_size = 0.2, random_state = 42, stratify = train_df['target'])\n",
    "bayesian_tr_idx = bayesian_tr_idx.index\n",
    "bayesian_val_idx = bayesian_val_idx.index"
   ]
  },
  {
   "cell_type": "code",
   "execution_count": 107,
   "metadata": {},
   "outputs": [],
   "source": [
    "features = train_df.columns[:-1]\n",
    "target = 'target'"
   ]
  },
  {
   "cell_type": "code",
   "execution_count": 134,
   "metadata": {},
   "outputs": [],
   "source": [
    "#black box LGBM \n",
    "def LGB_bayesian(\n",
    "    #learning_rate,\n",
    "    num_leaves, \n",
    "    bagging_fraction,\n",
    "    feature_fraction,\n",
    "    min_child_weight, \n",
    "    min_data_in_leaf,\n",
    "    max_depth,\n",
    "    reg_alpha,\n",
    "    reg_lambda\n",
    "     ):\n",
    "    \n",
    "    # LightGBM expects next three parameters need to be integer. \n",
    "    num_leaves = int(num_leaves)\n",
    "    min_data_in_leaf = int(min_data_in_leaf)\n",
    "    max_depth = int(max_depth)\n",
    "\n",
    "    assert type(num_leaves) == int\n",
    "    assert type(min_data_in_leaf) == int\n",
    "    assert type(max_depth) == int\n",
    "    \n",
    "\n",
    "    param = {\n",
    "              'num_leaves': num_leaves, \n",
    "              'min_data_in_leaf': min_data_in_leaf,\n",
    "              'min_child_weight': min_child_weight,\n",
    "              'bagging_fraction' : bagging_fraction,\n",
    "              'feature_fraction' : feature_fraction,\n",
    "#               'learning_rate' : learning_rate,\n",
    "              'max_depth': max_depth,\n",
    "              'reg_alpha': reg_alpha,\n",
    "              'reg_lambda': reg_lambda,\n",
    "              'objective': 'multiclass',\n",
    "#               'save_binary': True,\n",
    "#               'seed': 1337,\n",
    "#               'feature_fraction_seed': 1337,\n",
    "#               'bagging_seed': 1337,\n",
    "#               'drop_seed': 1337,\n",
    "#               'data_random_seed': 1337,\n",
    "              'boosting_type': 'gbdt',\n",
    "              'verbose': 1,\n",
    "              'is_unbalance': False,\n",
    "              'boost_from_average': True,\n",
    "              'metric':'multi_logloss',\n",
    "              'num_class': 5}\n",
    "    \n",
    "    X, y = train_df[features], train_df[target]    \n",
    "\n",
    "#     oof = np.zeros(len(bayesian_val_idx))\n",
    "    tr_x, tr_y = X.iloc[bayesian_tr_idx,:], y.iloc[bayesian_tr_idx]\n",
    "    vl_x, vl_y = X.iloc[bayesian_val_idx,:], y.iloc[bayesian_val_idx]\n",
    "    \n",
    "    trn_data = lgb.Dataset(tr_x, tr_y)\n",
    "    val_data = lgb.Dataset(vl_x, vl_y)\n",
    "    \n",
    "    \n",
    "    clf = lgb.train(param, trn_data,  num_boost_round=50, valid_sets = [trn_data, val_data], verbose_eval=0, early_stopping_rounds = 50)\n",
    "\n",
    "    val_predict_result = clf.predict(X.iloc[bayesian_val_idx].values, num_iteration= clf.best_iteration)  \n",
    "\n",
    "    val_predict_result = np.argmax(val_predict_result, axis=1)\n",
    "    score = accuracy_score(y.iloc[bayesian_val_idx].values, val_predict_result)\n",
    "\n",
    "    return score"
   ]
  },
  {
   "cell_type": "code",
   "execution_count": 130,
   "metadata": {},
   "outputs": [],
   "source": [
    "bounds_LGB = {\n",
    "    'num_leaves': (31, 500), \n",
    "    'min_data_in_leaf': (20, 200),\n",
    "    'bagging_fraction' : (0.1, 0.9),\n",
    "    'feature_fraction' : (0.1, 0.9),\n",
    "#     'learning_rate': (0.01, 0.3),\n",
    "    'min_child_weight': (0.00001, 0.01),   \n",
    "    'reg_alpha': (1, 2), \n",
    "    'reg_lambda': (1, 2),\n",
    "    'max_depth':(-1,50),\n",
    "}"
   ]
  },
  {
   "cell_type": "code",
   "execution_count": 110,
   "metadata": {},
   "outputs": [],
   "source": [
    "# !pip install bayesian-optimization\n"
   ]
  },
  {
   "cell_type": "code",
   "execution_count": 19,
   "metadata": {},
   "outputs": [],
   "source": [
    "from bayes_opt import BayesianOptimization\n",
    "\n",
    "LGB_BO = BayesianOptimization(LGB_bayesian, bounds_LGB, random_state=42)\n",
    "print(LGB_BO.space.keys)"
   ]
  },
  {
   "cell_type": "code",
   "execution_count": 132,
   "metadata": {},
   "outputs": [],
   "source": [
    "init_points = 10\n",
    "n_iter = 15"
   ]
  },
  {
   "cell_type": "code",
   "execution_count": 136,
   "metadata": {},
   "outputs": [
    {
     "name": "stdout",
     "output_type": "stream",
     "text": [
      "----------------------------------------------------------------------------------------------------------------------------------\n",
      "|   iter    |  target   | baggin... | featur... | max_depth | min_ch... | min_da... | num_le... | reg_alpha | reg_la... |\n",
      "-------------------------------------------------------------------------------------------------------------------------\n",
      "| \u001b[0m 1       \u001b[0m | \u001b[0m 0.995   \u001b[0m | \u001b[0m 0.3996  \u001b[0m | \u001b[0m 0.8606  \u001b[0m | \u001b[0m 36.33   \u001b[0m | \u001b[0m 0.005991\u001b[0m | \u001b[0m 48.08   \u001b[0m | \u001b[0m 104.2   \u001b[0m | \u001b[0m 1.058   \u001b[0m | \u001b[0m 1.866   \u001b[0m |\n",
      "| \u001b[0m 2       \u001b[0m | \u001b[0m 0.9925  \u001b[0m | \u001b[0m 0.5809  \u001b[0m | \u001b[0m 0.6665  \u001b[0m | \u001b[0m 0.04981 \u001b[0m | \u001b[0m 0.009699\u001b[0m | \u001b[0m 169.8   \u001b[0m | \u001b[0m 130.6   \u001b[0m | \u001b[0m 1.182   \u001b[0m | \u001b[0m 1.183   \u001b[0m |\n",
      "| \u001b[0m 3       \u001b[0m | \u001b[0m 0.9925  \u001b[0m | \u001b[0m 0.3434  \u001b[0m | \u001b[0m 0.5198  \u001b[0m | \u001b[0m 21.03   \u001b[0m | \u001b[0m 0.002919\u001b[0m | \u001b[0m 130.1   \u001b[0m | \u001b[0m 96.42   \u001b[0m | \u001b[0m 1.292   \u001b[0m | \u001b[0m 1.366   \u001b[0m |\n",
      "| \u001b[0m 4       \u001b[0m | \u001b[0m 0.9925  \u001b[0m | \u001b[0m 0.4649  \u001b[0m | \u001b[0m 0.7281  \u001b[0m | \u001b[0m 9.183   \u001b[0m | \u001b[0m 0.005147\u001b[0m | \u001b[0m 126.6   \u001b[0m | \u001b[0m 52.79   \u001b[0m | \u001b[0m 1.608   \u001b[0m | \u001b[0m 1.171   \u001b[0m |\n",
      "| \u001b[0m 5       \u001b[0m | \u001b[0m 0.9925  \u001b[0m | \u001b[0m 0.152   \u001b[0m | \u001b[0m 0.8591  \u001b[0m | \u001b[0m 48.25   \u001b[0m | \u001b[0m 0.008086\u001b[0m | \u001b[0m 74.83   \u001b[0m | \u001b[0m 76.81   \u001b[0m | \u001b[0m 1.684   \u001b[0m | \u001b[0m 1.44    \u001b[0m |\n",
      "| \u001b[0m 6       \u001b[0m | \u001b[0m 0.995   \u001b[0m | \u001b[0m 0.1976  \u001b[0m | \u001b[0m 0.4961  \u001b[0m | \u001b[0m 0.7538  \u001b[0m | \u001b[0m 0.009094\u001b[0m | \u001b[0m 66.58   \u001b[0m | \u001b[0m 341.7   \u001b[0m | \u001b[0m 1.312   \u001b[0m | \u001b[0m 1.52    \u001b[0m |\n",
      "| \u001b[0m 7       \u001b[0m | \u001b[0m 0.9913  \u001b[0m | \u001b[0m 0.5374  \u001b[0m | \u001b[0m 0.2479  \u001b[0m | \u001b[0m 48.45   \u001b[0m | \u001b[0m 0.007754\u001b[0m | \u001b[0m 189.1   \u001b[0m | \u001b[0m 450.7   \u001b[0m | \u001b[0m 1.598   \u001b[0m | \u001b[0m 1.922   \u001b[0m |\n",
      "| \u001b[0m 8       \u001b[0m | \u001b[0m 0.9428  \u001b[0m | \u001b[0m 0.1708  \u001b[0m | \u001b[0m 0.2568  \u001b[0m | \u001b[0m 1.307   \u001b[0m | \u001b[0m 0.00326 \u001b[0m | \u001b[0m 89.96   \u001b[0m | \u001b[0m 158.3   \u001b[0m | \u001b[0m 1.829   \u001b[0m | \u001b[0m 1.357   \u001b[0m |\n",
      "| \u001b[95m 9       \u001b[0m | \u001b[95m 0.9963  \u001b[0m | \u001b[95m 0.3247  \u001b[0m | \u001b[95m 0.5342  \u001b[0m | \u001b[95m 6.187   \u001b[0m | \u001b[95m 0.008024\u001b[0m | \u001b[95m 33.42   \u001b[0m | \u001b[95m 493.8   \u001b[0m | \u001b[95m 1.772   \u001b[0m | \u001b[95m 1.199   \u001b[0m |\n",
      "| \u001b[0m 10      \u001b[0m | \u001b[0m 0.9925  \u001b[0m | \u001b[0m 0.1044  \u001b[0m | \u001b[0m 0.7524  \u001b[0m | \u001b[0m 35.05   \u001b[0m | \u001b[0m 0.007293\u001b[0m | \u001b[0m 158.8   \u001b[0m | \u001b[0m 65.73   \u001b[0m | \u001b[0m 1.358   \u001b[0m | \u001b[0m 1.116   \u001b[0m |\n",
      "| \u001b[0m 11      \u001b[0m | \u001b[0m 0.995   \u001b[0m | \u001b[0m 0.9     \u001b[0m | \u001b[0m 0.8989  \u001b[0m | \u001b[0m 50.0    \u001b[0m | \u001b[0m 1e-05   \u001b[0m | \u001b[0m 20.0    \u001b[0m | \u001b[0m 405.1   \u001b[0m | \u001b[0m 1.914   \u001b[0m | \u001b[0m 1.01    \u001b[0m |\n",
      "| \u001b[0m 12      \u001b[0m | \u001b[0m 0.995   \u001b[0m | \u001b[0m 0.3099  \u001b[0m | \u001b[0m 0.174   \u001b[0m | \u001b[0m-0.8439  \u001b[0m | \u001b[0m 0.0077  \u001b[0m | \u001b[0m 198.3   \u001b[0m | \u001b[0m 499.9   \u001b[0m | \u001b[0m 1.55    \u001b[0m | \u001b[0m 1.477   \u001b[0m |\n",
      "| \u001b[0m 13      \u001b[0m | \u001b[0m 0.9925  \u001b[0m | \u001b[0m 0.508   \u001b[0m | \u001b[0m 0.3076  \u001b[0m | \u001b[0m-0.5726  \u001b[0m | \u001b[0m 0.006591\u001b[0m | \u001b[0m 199.9   \u001b[0m | \u001b[0m 362.7   \u001b[0m | \u001b[0m 1.95    \u001b[0m | \u001b[0m 1.105   \u001b[0m |\n",
      "| \u001b[0m 14      \u001b[0m | \u001b[0m 0.995   \u001b[0m | \u001b[0m 0.1301  \u001b[0m | \u001b[0m 0.5797  \u001b[0m | \u001b[0m 4.744   \u001b[0m | \u001b[0m 0.008969\u001b[0m | \u001b[0m 22.13   \u001b[0m | \u001b[0m 32.18   \u001b[0m | \u001b[0m 1.209   \u001b[0m | \u001b[0m 1.312   \u001b[0m |\n",
      "| \u001b[0m 15      \u001b[0m | \u001b[0m 0.9913  \u001b[0m | \u001b[0m 0.7293  \u001b[0m | \u001b[0m 0.3265  \u001b[0m | \u001b[0m 49.98   \u001b[0m | \u001b[0m 0.002037\u001b[0m | \u001b[0m 199.0   \u001b[0m | \u001b[0m 248.0   \u001b[0m | \u001b[0m 1.464   \u001b[0m | \u001b[0m 1.655   \u001b[0m |\n",
      "| \u001b[0m 16      \u001b[0m | \u001b[0m 0.9925  \u001b[0m | \u001b[0m 0.8583  \u001b[0m | \u001b[0m 0.8273  \u001b[0m | \u001b[0m-0.9144  \u001b[0m | \u001b[0m 0.006638\u001b[0m | \u001b[0m 114.7   \u001b[0m | \u001b[0m 444.6   \u001b[0m | \u001b[0m 1.245   \u001b[0m | \u001b[0m 1.485   \u001b[0m |\n",
      "| \u001b[0m 17      \u001b[0m | \u001b[0m 0.9963  \u001b[0m | \u001b[0m 0.2612  \u001b[0m | \u001b[0m 0.583   \u001b[0m | \u001b[0m-0.9778  \u001b[0m | \u001b[0m 0.002028\u001b[0m | \u001b[0m 20.27   \u001b[0m | \u001b[0m 388.1   \u001b[0m | \u001b[0m 1.977   \u001b[0m | \u001b[0m 1.624   \u001b[0m |\n",
      "| \u001b[0m 18      \u001b[0m | \u001b[0m 0.995   \u001b[0m | \u001b[0m 0.7058  \u001b[0m | \u001b[0m 0.377   \u001b[0m | \u001b[0m 48.85   \u001b[0m | \u001b[0m 0.004648\u001b[0m | \u001b[0m 20.56   \u001b[0m | \u001b[0m 260.2   \u001b[0m | \u001b[0m 1.432   \u001b[0m | \u001b[0m 1.764   \u001b[0m |\n",
      "| \u001b[0m 19      \u001b[0m | \u001b[0m 0.9938  \u001b[0m | \u001b[0m 0.6017  \u001b[0m | \u001b[0m 0.5873  \u001b[0m | \u001b[0m-0.7871  \u001b[0m | \u001b[0m 0.007946\u001b[0m | \u001b[0m 198.7   \u001b[0m | \u001b[0m 45.89   \u001b[0m | \u001b[0m 1.45    \u001b[0m | \u001b[0m 1.965   \u001b[0m |\n",
      "| \u001b[0m 20      \u001b[0m | \u001b[0m 0.9925  \u001b[0m | \u001b[0m 0.6135  \u001b[0m | \u001b[0m 0.2602  \u001b[0m | \u001b[0m 49.7    \u001b[0m | \u001b[0m 0.004927\u001b[0m | \u001b[0m 110.5   \u001b[0m | \u001b[0m 498.7   \u001b[0m | \u001b[0m 1.583   \u001b[0m | \u001b[0m 1.39    \u001b[0m |\n",
      "| \u001b[0m 21      \u001b[0m | \u001b[0m 0.995   \u001b[0m | \u001b[0m 0.4448  \u001b[0m | \u001b[0m 0.8801  \u001b[0m | \u001b[0m 47.23   \u001b[0m | \u001b[0m 0.006509\u001b[0m | \u001b[0m 20.72   \u001b[0m | \u001b[0m 37.84   \u001b[0m | \u001b[0m 1.674   \u001b[0m | \u001b[0m 1.949   \u001b[0m |\n",
      "| \u001b[0m 22      \u001b[0m | \u001b[0m 0.9925  \u001b[0m | \u001b[0m 0.4476  \u001b[0m | \u001b[0m 0.713   \u001b[0m | \u001b[0m 49.81   \u001b[0m | \u001b[0m 0.000452\u001b[0m | \u001b[0m 119.5   \u001b[0m | \u001b[0m 341.4   \u001b[0m | \u001b[0m 1.058   \u001b[0m | \u001b[0m 1.722   \u001b[0m |\n",
      "| \u001b[0m 23      \u001b[0m | \u001b[0m 0.9913  \u001b[0m | \u001b[0m 0.8709  \u001b[0m | \u001b[0m 0.2155  \u001b[0m | \u001b[0m 47.48   \u001b[0m | \u001b[0m 0.007539\u001b[0m | \u001b[0m 199.4   \u001b[0m | \u001b[0m 137.4   \u001b[0m | \u001b[0m 1.211   \u001b[0m | \u001b[0m 1.768   \u001b[0m |\n",
      "| \u001b[0m 24      \u001b[0m | \u001b[0m 0.9938  \u001b[0m | \u001b[0m 0.5703  \u001b[0m | \u001b[0m 0.7269  \u001b[0m | \u001b[0m 48.97   \u001b[0m | \u001b[0m 0.00559 \u001b[0m | \u001b[0m 20.27   \u001b[0m | \u001b[0m 498.9   \u001b[0m | \u001b[0m 1.582   \u001b[0m | \u001b[0m 1.878   \u001b[0m |\n",
      "| \u001b[0m 25      \u001b[0m | \u001b[0m 0.9963  \u001b[0m | \u001b[0m 0.6867  \u001b[0m | \u001b[0m 0.5945  \u001b[0m | \u001b[0m 49.97   \u001b[0m | \u001b[0m 0.004612\u001b[0m | \u001b[0m 20.29   \u001b[0m | \u001b[0m 124.8   \u001b[0m | \u001b[0m 1.919   \u001b[0m | \u001b[0m 1.443   \u001b[0m |\n",
      "=========================================================================================================================\n"
     ]
    }
   ],
   "source": [
    "print('-' * 130)\n",
    "\n",
    "with warnings.catch_warnings():\n",
    "    warnings.filterwarnings('ignore')\n",
    "    LGB_BO.maximize(init_points=init_points, n_iter=n_iter, acq='ucb', xi=0.0, alpha=1e-6)"
   ]
  },
  {
   "cell_type": "code",
   "execution_count": 137,
   "metadata": {},
   "outputs": [
    {
     "data": {
      "text/plain": [
       "0.996268656716418"
      ]
     },
     "execution_count": 137,
     "metadata": {},
     "output_type": "execute_result"
    }
   ],
   "source": [
    "LGB_BO.max['target']"
   ]
  },
  {
   "cell_type": "code",
   "execution_count": 138,
   "metadata": {},
   "outputs": [
    {
     "data": {
      "text/plain": [
       "{'bagging_fraction': 0.32474760774990463,\n",
       " 'feature_fraction': 0.5341568665265988,\n",
       " 'max_depth': 6.187135473712895,\n",
       " 'min_child_weight': 0.008023947837732857,\n",
       " 'min_data_in_leaf': 33.41911586235875,\n",
       " 'num_leaves': 493.84997326564263,\n",
       " 'reg_alpha': 1.7722447692966574,\n",
       " 'reg_lambda': 1.1987156815341724}"
      ]
     },
     "execution_count": 138,
     "metadata": {},
     "output_type": "execute_result"
    }
   ],
   "source": [
    "LGB_BO.max['params']"
   ]
  },
  {
   "cell_type": "code",
   "execution_count": null,
   "metadata": {},
   "outputs": [],
   "source": []
  },
  {
   "cell_type": "code",
   "execution_count": null,
   "metadata": {},
   "outputs": [],
   "source": []
  },
  {
   "cell_type": "code",
   "execution_count": null,
   "metadata": {},
   "outputs": [],
   "source": []
  },
  {
   "cell_type": "code",
   "execution_count": null,
   "metadata": {},
   "outputs": [],
   "source": []
  },
  {
   "cell_type": "code",
   "execution_count": null,
   "metadata": {},
   "outputs": [],
   "source": []
  },
  {
   "cell_type": "code",
   "execution_count": null,
   "metadata": {},
   "outputs": [],
   "source": []
  },
  {
   "cell_type": "code",
   "execution_count": null,
   "metadata": {},
   "outputs": [],
   "source": []
  }
 ],
 "metadata": {
  "kernelspec": {
   "display_name": "Python 3",
   "language": "python",
   "name": "python3"
  },
  "language_info": {
   "codemirror_mode": {
    "name": "ipython",
    "version": 3
   },
   "file_extension": ".py",
   "mimetype": "text/x-python",
   "name": "python",
   "nbconvert_exporter": "python",
   "pygments_lexer": "ipython3",
   "version": "3.7.4"
  },
  "toc": {
   "base_numbering": 1,
   "nav_menu": {},
   "number_sections": true,
   "sideBar": true,
   "skip_h1_title": false,
   "title_cell": "Table of Contents",
   "title_sidebar": "Contents",
   "toc_cell": false,
   "toc_position": {},
   "toc_section_display": true,
   "toc_window_display": false
  },
  "varInspector": {
   "cols": {
    "lenName": 16,
    "lenType": 16,
    "lenVar": 40
   },
   "kernels_config": {
    "python": {
     "delete_cmd_postfix": "",
     "delete_cmd_prefix": "del ",
     "library": "var_list.py",
     "varRefreshCmd": "print(var_dic_list())"
    },
    "r": {
     "delete_cmd_postfix": ") ",
     "delete_cmd_prefix": "rm(",
     "library": "var_list.r",
     "varRefreshCmd": "cat(var_dic_list()) "
    }
   },
   "types_to_exclude": [
    "module",
    "function",
    "builtin_function_or_method",
    "instance",
    "_Feature"
   ],
   "window_display": false
  }
 },
 "nbformat": 4,
 "nbformat_minor": 2
}
