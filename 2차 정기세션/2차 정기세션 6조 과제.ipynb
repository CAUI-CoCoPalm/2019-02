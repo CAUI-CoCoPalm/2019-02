{
 "cells": [
  {
   "cell_type": "markdown",
   "metadata": {},
   "source": [
    "# Iris, Wine Data -> GBM, XGBoost, Light GBM"
   ]
  },
  {
   "cell_type": "code",
   "execution_count": 1,
   "metadata": {},
   "outputs": [
    {
     "name": "stderr",
     "output_type": "stream",
     "text": [
      "/anaconda3/lib/python3.7/site-packages/lightgbm/__init__.py:46: UserWarning: Starting from version 2.2.1, the library file in distribution wheels for macOS is built by the Apple Clang (Xcode_8.3.3) compiler.\n",
      "This means that in case of installing LightGBM from PyPI via the ``pip install lightgbm`` command, you don't need to install the gcc compiler anymore.\n",
      "Instead of that, you need to install the OpenMP library, which is required for running LightGBM on the system with the Apple Clang compiler.\n",
      "You can install the OpenMP library by the following command: ``brew install libomp``.\n",
      "  \"You can install the OpenMP library by the following command: ``brew install libomp``.\", UserWarning)\n"
     ]
    }
   ],
   "source": [
    "from sklearn import datasets as d\n",
    "from sklearn.metrics import accuracy_score, precision_score, recall_score, roc_auc_score\n",
    "from sklearn.metrics import f1_score, confusion_matrix, precision_recall_curve, roc_curve\n",
    "from sklearn.ensemble import GradientBoostingClassifier\n",
    "import time\n",
    "import warnings\n",
    "from xgboost import plot_importance\n",
    "from sklearn.datasets import load_breast_cancer\n",
    "import pandas as pd\n",
    "from lightgbm import LGBMClassifier\n",
    "import pandas as pd\n",
    "import numpy as np\n",
    "from sklearn import model_selection as ms\n",
    "import time\n",
    "from xgboost import XGBClassifier\n",
    "import matplotlib.pyplot as plt\n",
    "%matplotlib inline"
   ]
  },
  {
   "cell_type": "markdown",
   "metadata": {},
   "source": [
    "## (1) Iris data -> GBM, XGBoost, Light GBM"
   ]
  },
  {
   "cell_type": "code",
   "execution_count": 2,
   "metadata": {
    "scrolled": true
   },
   "outputs": [
    {
     "data": {
      "text/html": [
       "<div>\n",
       "<style scoped>\n",
       "    .dataframe tbody tr th:only-of-type {\n",
       "        vertical-align: middle;\n",
       "    }\n",
       "\n",
       "    .dataframe tbody tr th {\n",
       "        vertical-align: top;\n",
       "    }\n",
       "\n",
       "    .dataframe thead th {\n",
       "        text-align: right;\n",
       "    }\n",
       "</style>\n",
       "<table border=\"1\" class=\"dataframe\">\n",
       "  <thead>\n",
       "    <tr style=\"text-align: right;\">\n",
       "      <th></th>\n",
       "      <th>0</th>\n",
       "      <th>1</th>\n",
       "      <th>2</th>\n",
       "      <th>3</th>\n",
       "    </tr>\n",
       "  </thead>\n",
       "  <tbody>\n",
       "    <tr>\n",
       "      <th>0</th>\n",
       "      <td>5.1</td>\n",
       "      <td>3.5</td>\n",
       "      <td>1.4</td>\n",
       "      <td>0.2</td>\n",
       "    </tr>\n",
       "    <tr>\n",
       "      <th>1</th>\n",
       "      <td>4.9</td>\n",
       "      <td>3.0</td>\n",
       "      <td>1.4</td>\n",
       "      <td>0.2</td>\n",
       "    </tr>\n",
       "    <tr>\n",
       "      <th>2</th>\n",
       "      <td>4.7</td>\n",
       "      <td>3.2</td>\n",
       "      <td>1.3</td>\n",
       "      <td>0.2</td>\n",
       "    </tr>\n",
       "    <tr>\n",
       "      <th>3</th>\n",
       "      <td>4.6</td>\n",
       "      <td>3.1</td>\n",
       "      <td>1.5</td>\n",
       "      <td>0.2</td>\n",
       "    </tr>\n",
       "    <tr>\n",
       "      <th>4</th>\n",
       "      <td>5.0</td>\n",
       "      <td>3.6</td>\n",
       "      <td>1.4</td>\n",
       "      <td>0.2</td>\n",
       "    </tr>\n",
       "  </tbody>\n",
       "</table>\n",
       "</div>"
      ],
      "text/plain": [
       "     0    1    2    3\n",
       "0  5.1  3.5  1.4  0.2\n",
       "1  4.9  3.0  1.4  0.2\n",
       "2  4.7  3.2  1.3  0.2\n",
       "3  4.6  3.1  1.5  0.2\n",
       "4  5.0  3.6  1.4  0.2"
      ]
     },
     "execution_count": 2,
     "metadata": {},
     "output_type": "execute_result"
    }
   ],
   "source": [
    "# import iris data\n",
    "iris = d.load_iris()\n",
    "irisdf=pd.DataFrame(iris.data)\n",
    "irisdf.head()"
   ]
  },
  {
   "cell_type": "code",
   "execution_count": 3,
   "metadata": {},
   "outputs": [],
   "source": [
    "# Train, test set split\n",
    "X_train, X_test, y_train, y_test = ms.train_test_split(irisdf, iris.target, test_size=0.3, random_state=0)"
   ]
  },
  {
   "cell_type": "markdown",
   "metadata": {},
   "source": [
    "### Iris - GBM"
   ]
  },
  {
   "cell_type": "markdown",
   "metadata": {},
   "source": [
    "- GBM을 이용하여 iris data 분류 모델을 만들었을 때 성능은? ( 성능 :   ?   )[소수점 둘째자리까지]"
   ]
  },
  {
   "cell_type": "code",
   "execution_count": 4,
   "metadata": {},
   "outputs": [
    {
     "name": "stdout",
     "output_type": "stream",
     "text": [
      "GBM 정확도: 0.98\n",
      "GBM 수행 시간: 0.000126 초\n"
     ]
    }
   ],
   "source": [
    "# gbm\n",
    "\n",
    "gb_clf = GradientBoostingClassifier(random_state=0)\n",
    "gb_clf.fit(X_train, y_train)\n",
    "gb_pred = gb_clf.predict(X_test)\n",
    "gb_accuracy = accuracy_score(y_test, gb_pred)\n",
    "\n",
    "\n",
    "start_time=time.time()\n",
    "\n",
    "print('GBM 정확도: {0:.2f}'.format(gb_accuracy))\n",
    "print('GBM 수행 시간: {0:.6f} 초'.format(time.time()-start_time))"
   ]
  },
  {
   "cell_type": "markdown",
   "metadata": {},
   "source": [
    "### Iris - XGBoost"
   ]
  },
  {
   "cell_type": "markdown",
   "metadata": {},
   "source": [
    "- xgboostclassifier를 이용하여 iris data 분류 모델을 만들어 성능을 적고 ( 성능 :   ?   )[소수점 둘째자리까지]\n",
    "- plot_importance를 사용하여 중요한 피처 순서대로 나열하라(? - ? - ? - ?)"
   ]
  },
  {
   "cell_type": "code",
   "execution_count": 5,
   "metadata": {},
   "outputs": [
    {
     "name": "stdout",
     "output_type": "stream",
     "text": [
      "성능 :  0.98\n"
     ]
    }
   ],
   "source": [
    "# xgboostclassifier\n",
    "\n",
    "xgb_clf = XGBClassifier(random_state=0)\n",
    "xgb_clf.fit(X_train, y_train)\n",
    "xgb_pred = xgb_clf.predict(X_test)\n",
    "\n",
    "\n",
    "print('성능 : ', np.round(accuracy_score(y_test , xgb_pred),2))"
   ]
  },
  {
   "cell_type": "code",
   "execution_count": 23,
   "metadata": {},
   "outputs": [
    {
     "name": "stdout",
     "output_type": "stream",
     "text": [
      "[0]\tvalidation_0-merror:0.022222\n",
      "Will train until validation_0-merror hasn't improved in 100 rounds.\n",
      "[1]\tvalidation_0-merror:0.022222\n",
      "[2]\tvalidation_0-merror:0.022222\n",
      "[3]\tvalidation_0-merror:0.022222\n",
      "[4]\tvalidation_0-merror:0.022222\n",
      "[5]\tvalidation_0-merror:0.022222\n",
      "[6]\tvalidation_0-merror:0.022222\n",
      "[7]\tvalidation_0-merror:0.022222\n",
      "[8]\tvalidation_0-merror:0.022222\n",
      "[9]\tvalidation_0-merror:0.022222\n",
      "[10]\tvalidation_0-merror:0.022222\n",
      "[11]\tvalidation_0-merror:0.022222\n",
      "[12]\tvalidation_0-merror:0.022222\n",
      "[13]\tvalidation_0-merror:0.022222\n",
      "[14]\tvalidation_0-merror:0.022222\n",
      "[15]\tvalidation_0-merror:0.022222\n",
      "[16]\tvalidation_0-merror:0.022222\n",
      "[17]\tvalidation_0-merror:0.022222\n",
      "[18]\tvalidation_0-merror:0.022222\n",
      "[19]\tvalidation_0-merror:0.022222\n",
      "[20]\tvalidation_0-merror:0.022222\n",
      "[21]\tvalidation_0-merror:0.022222\n",
      "[22]\tvalidation_0-merror:0.022222\n",
      "[23]\tvalidation_0-merror:0.022222\n",
      "[24]\tvalidation_0-merror:0.022222\n",
      "[25]\tvalidation_0-merror:0.022222\n",
      "[26]\tvalidation_0-merror:0.022222\n",
      "[27]\tvalidation_0-merror:0.022222\n",
      "[28]\tvalidation_0-merror:0.022222\n",
      "[29]\tvalidation_0-merror:0.022222\n",
      "[30]\tvalidation_0-merror:0.022222\n",
      "[31]\tvalidation_0-merror:0.022222\n",
      "[32]\tvalidation_0-merror:0.022222\n",
      "[33]\tvalidation_0-merror:0.022222\n",
      "[34]\tvalidation_0-merror:0.022222\n",
      "[35]\tvalidation_0-merror:0.022222\n",
      "[36]\tvalidation_0-merror:0.022222\n",
      "[37]\tvalidation_0-merror:0.022222\n",
      "[38]\tvalidation_0-merror:0.022222\n",
      "[39]\tvalidation_0-merror:0.022222\n",
      "[40]\tvalidation_0-merror:0.022222\n",
      "[41]\tvalidation_0-merror:0.022222\n",
      "[42]\tvalidation_0-merror:0.022222\n",
      "[43]\tvalidation_0-merror:0.022222\n",
      "[44]\tvalidation_0-merror:0.022222\n",
      "[45]\tvalidation_0-merror:0.022222\n",
      "[46]\tvalidation_0-merror:0.022222\n",
      "[47]\tvalidation_0-merror:0.022222\n",
      "[48]\tvalidation_0-merror:0.022222\n",
      "[49]\tvalidation_0-merror:0.022222\n",
      "[50]\tvalidation_0-merror:0.022222\n",
      "[51]\tvalidation_0-merror:0.022222\n",
      "[52]\tvalidation_0-merror:0.022222\n",
      "[53]\tvalidation_0-merror:0.022222\n",
      "[54]\tvalidation_0-merror:0.022222\n",
      "[55]\tvalidation_0-merror:0.022222\n",
      "[56]\tvalidation_0-merror:0.022222\n",
      "[57]\tvalidation_0-merror:0.022222\n",
      "[58]\tvalidation_0-merror:0.022222\n",
      "[59]\tvalidation_0-merror:0.022222\n",
      "[60]\tvalidation_0-merror:0.022222\n",
      "[61]\tvalidation_0-merror:0.022222\n",
      "[62]\tvalidation_0-merror:0.022222\n",
      "[63]\tvalidation_0-merror:0.022222\n",
      "[64]\tvalidation_0-merror:0.022222\n",
      "[65]\tvalidation_0-merror:0.022222\n",
      "[66]\tvalidation_0-merror:0.022222\n",
      "[67]\tvalidation_0-merror:0.022222\n",
      "[68]\tvalidation_0-merror:0.022222\n",
      "[69]\tvalidation_0-merror:0.022222\n",
      "[70]\tvalidation_0-merror:0.022222\n",
      "[71]\tvalidation_0-merror:0.022222\n",
      "[72]\tvalidation_0-merror:0.022222\n",
      "[73]\tvalidation_0-merror:0.022222\n",
      "[74]\tvalidation_0-merror:0.022222\n",
      "[75]\tvalidation_0-merror:0.022222\n",
      "[76]\tvalidation_0-merror:0.022222\n",
      "[77]\tvalidation_0-merror:0.022222\n",
      "[78]\tvalidation_0-merror:0.022222\n",
      "[79]\tvalidation_0-merror:0.022222\n",
      "[80]\tvalidation_0-merror:0.022222\n",
      "[81]\tvalidation_0-merror:0.022222\n",
      "[82]\tvalidation_0-merror:0.022222\n",
      "[83]\tvalidation_0-merror:0.022222\n",
      "[84]\tvalidation_0-merror:0.022222\n",
      "[85]\tvalidation_0-merror:0.022222\n",
      "[86]\tvalidation_0-merror:0.022222\n",
      "[87]\tvalidation_0-merror:0.022222\n",
      "[88]\tvalidation_0-merror:0.022222\n",
      "[89]\tvalidation_0-merror:0.022222\n",
      "[90]\tvalidation_0-merror:0.022222\n",
      "[91]\tvalidation_0-merror:0.022222\n",
      "[92]\tvalidation_0-merror:0.022222\n",
      "[93]\tvalidation_0-merror:0.022222\n",
      "[94]\tvalidation_0-merror:0.022222\n",
      "[95]\tvalidation_0-merror:0.022222\n",
      "[96]\tvalidation_0-merror:0.022222\n",
      "[97]\tvalidation_0-merror:0.022222\n",
      "[98]\tvalidation_0-merror:0.022222\n",
      "[99]\tvalidation_0-merror:0.022222\n",
      "[100]\tvalidation_0-merror:0.022222\n",
      "Stopping. Best iteration:\n",
      "[0]\tvalidation_0-merror:0.022222\n",
      "\n"
     ]
    }
   ],
   "source": [
    "#plot_importance graph\n",
    "\n",
    "xgb_wrapper = XGBClassifier(n_estimators=400, learning_rate=0.1, max_depth=3)\n",
    "evals = [(X_test, y_test)]\n",
    "xgb_wrapper.fit(X_train, y_train, eval_set=evals, verbose=True, early_stopping_rounds=100)\n",
    "w_preds=xgb_wrapper.predict(X_test)"
   ]
  },
  {
   "cell_type": "code",
   "execution_count": 25,
   "metadata": {},
   "outputs": [
    {
     "data": {
      "text/plain": [
       "<matplotlib.axes._subplots.AxesSubplot at 0x1a1db55cc0>"
      ]
     },
     "execution_count": 25,
     "metadata": {},
     "output_type": "execute_result"
    },
    {
     "data": {
      "image/png": "[encoded data removed]",
      "text/plain": [
       "<Figure size 720x864 with 1 Axes>"
      ]
     },
     "metadata": {
      "needs_background": "light"
     },
     "output_type": "display_data"
    }
   ],
   "source": [
    "f, ax = plt.subplots(figsize=(10, 12))\n",
    "plot_importance(xgb_wrapper, ax=ax)"
   ]
  },
  {
   "cell_type": "code",
   "execution_count": 26,
   "metadata": {},
   "outputs": [],
   "source": [
    "# 2-3-0-1"
   ]
  },
  {
   "cell_type": "markdown",
   "metadata": {},
   "source": [
    "### Iris - Light GBM"
   ]
  },
  {
   "cell_type": "markdown",
   "metadata": {},
   "source": [
    "- LightGBM을 이용하여 iris data 분류 모델을 만들었을 때 성능은? ( 성능 :  ?    )[소수점 둘째자리까지]"
   ]
  },
  {
   "cell_type": "code",
   "execution_count": 27,
   "metadata": {},
   "outputs": [
    {
     "name": "stdout",
     "output_type": "stream",
     "text": [
      "성능 :  0.98\n"
     ]
    }
   ],
   "source": [
    "# lgbm\n",
    "\n",
    "lgbm = LGBMClassifier(random_state=0)\n",
    "lgbm.fit(X_train, y_train)\n",
    "lgbm_pred = lgbm.predict(X_test)\n",
    "\n",
    "\n",
    "print('성능 : ', round(accuracy_score(y_test , lgbm_pred),2))"
   ]
  },
  {
   "cell_type": "markdown",
   "metadata": {},
   "source": [
    "## (2) wine data -> GBM, XGBoost, Light GBM"
   ]
  },
  {
   "cell_type": "code",
   "execution_count": 28,
   "metadata": {},
   "outputs": [
    {
     "data": {
      "text/html": [
       "<div>\n",
       "<style scoped>\n",
       "    .dataframe tbody tr th:only-of-type {\n",
       "        vertical-align: middle;\n",
       "    }\n",
       "\n",
       "    .dataframe tbody tr th {\n",
       "        vertical-align: top;\n",
       "    }\n",
       "\n",
       "    .dataframe thead th {\n",
       "        text-align: right;\n",
       "    }\n",
       "</style>\n",
       "<table border=\"1\" class=\"dataframe\">\n",
       "  <thead>\n",
       "    <tr style=\"text-align: right;\">\n",
       "      <th></th>\n",
       "      <th>0</th>\n",
       "      <th>1</th>\n",
       "      <th>2</th>\n",
       "      <th>3</th>\n",
       "      <th>4</th>\n",
       "      <th>5</th>\n",
       "      <th>6</th>\n",
       "      <th>7</th>\n",
       "      <th>8</th>\n",
       "      <th>9</th>\n",
       "      <th>10</th>\n",
       "      <th>11</th>\n",
       "      <th>12</th>\n",
       "    </tr>\n",
       "  </thead>\n",
       "  <tbody>\n",
       "    <tr>\n",
       "      <th>0</th>\n",
       "      <td>14.23</td>\n",
       "      <td>1.71</td>\n",
       "      <td>2.43</td>\n",
       "      <td>15.6</td>\n",
       "      <td>127.0</td>\n",
       "      <td>2.80</td>\n",
       "      <td>3.06</td>\n",
       "      <td>0.28</td>\n",
       "      <td>2.29</td>\n",
       "      <td>5.64</td>\n",
       "      <td>1.04</td>\n",
       "      <td>3.92</td>\n",
       "      <td>1065.0</td>\n",
       "    </tr>\n",
       "    <tr>\n",
       "      <th>1</th>\n",
       "      <td>13.20</td>\n",
       "      <td>1.78</td>\n",
       "      <td>2.14</td>\n",
       "      <td>11.2</td>\n",
       "      <td>100.0</td>\n",
       "      <td>2.65</td>\n",
       "      <td>2.76</td>\n",
       "      <td>0.26</td>\n",
       "      <td>1.28</td>\n",
       "      <td>4.38</td>\n",
       "      <td>1.05</td>\n",
       "      <td>3.40</td>\n",
       "      <td>1050.0</td>\n",
       "    </tr>\n",
       "    <tr>\n",
       "      <th>2</th>\n",
       "      <td>13.16</td>\n",
       "      <td>2.36</td>\n",
       "      <td>2.67</td>\n",
       "      <td>18.6</td>\n",
       "      <td>101.0</td>\n",
       "      <td>2.80</td>\n",
       "      <td>3.24</td>\n",
       "      <td>0.30</td>\n",
       "      <td>2.81</td>\n",
       "      <td>5.68</td>\n",
       "      <td>1.03</td>\n",
       "      <td>3.17</td>\n",
       "      <td>1185.0</td>\n",
       "    </tr>\n",
       "    <tr>\n",
       "      <th>3</th>\n",
       "      <td>14.37</td>\n",
       "      <td>1.95</td>\n",
       "      <td>2.50</td>\n",
       "      <td>16.8</td>\n",
       "      <td>113.0</td>\n",
       "      <td>3.85</td>\n",
       "      <td>3.49</td>\n",
       "      <td>0.24</td>\n",
       "      <td>2.18</td>\n",
       "      <td>7.80</td>\n",
       "      <td>0.86</td>\n",
       "      <td>3.45</td>\n",
       "      <td>1480.0</td>\n",
       "    </tr>\n",
       "    <tr>\n",
       "      <th>4</th>\n",
       "      <td>13.24</td>\n",
       "      <td>2.59</td>\n",
       "      <td>2.87</td>\n",
       "      <td>21.0</td>\n",
       "      <td>118.0</td>\n",
       "      <td>2.80</td>\n",
       "      <td>2.69</td>\n",
       "      <td>0.39</td>\n",
       "      <td>1.82</td>\n",
       "      <td>4.32</td>\n",
       "      <td>1.04</td>\n",
       "      <td>2.93</td>\n",
       "      <td>735.0</td>\n",
       "    </tr>\n",
       "  </tbody>\n",
       "</table>\n",
       "</div>"
      ],
      "text/plain": [
       "      0     1     2     3      4     5     6     7     8     9     10    11  \\\n",
       "0  14.23  1.71  2.43  15.6  127.0  2.80  3.06  0.28  2.29  5.64  1.04  3.92   \n",
       "1  13.20  1.78  2.14  11.2  100.0  2.65  2.76  0.26  1.28  4.38  1.05  3.40   \n",
       "2  13.16  2.36  2.67  18.6  101.0  2.80  3.24  0.30  2.81  5.68  1.03  3.17   \n",
       "3  14.37  1.95  2.50  16.8  113.0  3.85  3.49  0.24  2.18  7.80  0.86  3.45   \n",
       "4  13.24  2.59  2.87  21.0  118.0  2.80  2.69  0.39  1.82  4.32  1.04  2.93   \n",
       "\n",
       "       12  \n",
       "0  1065.0  \n",
       "1  1050.0  \n",
       "2  1185.0  \n",
       "3  1480.0  \n",
       "4   735.0  "
      ]
     },
     "execution_count": 28,
     "metadata": {},
     "output_type": "execute_result"
    }
   ],
   "source": [
    "# import wine data\n",
    "wine = d.load_wine()\n",
    "winedf=pd.DataFrame(wine.data)\n",
    "winedf.head()"
   ]
  },
  {
   "cell_type": "code",
   "execution_count": 29,
   "metadata": {},
   "outputs": [],
   "source": [
    "# Train, test set split\n",
    "X_train, X_test, y_train, y_test = ms.train_test_split(winedf, wine.target, test_size=0.3, random_state=0)"
   ]
  },
  {
   "cell_type": "markdown",
   "metadata": {},
   "source": [
    "### Wine - GBM"
   ]
  },
  {
   "cell_type": "markdown",
   "metadata": {},
   "source": [
    "- GBM을 이용하여 wine data 분류 모델을 만들었을 때 성능은? ( 성능 : ?    )[소수점 둘째자리까지]"
   ]
  },
  {
   "cell_type": "code",
   "execution_count": 30,
   "metadata": {},
   "outputs": [
    {
     "name": "stdout",
     "output_type": "stream",
     "text": [
      "GBM 정확도: 0.9400\n",
      "GBM 수행 시간: 0.0 초\n"
     ]
    }
   ],
   "source": [
    "# gbm\n",
    "\n",
    "gb_clf = GradientBoostingClassifier(random_state=0)\n",
    "gb_clf.fit(X_train, y_train)\n",
    "gb_pred = gb_clf.predict(X_test)\n",
    "gb_accuracy = accuracy_score(y_test, gb_pred)\n",
    "\n",
    "\n",
    "start_time=time.time()\n",
    "\n",
    "\n",
    "\n",
    "print('GBM 정확도: {0:.4f}'.format(round(gb_accuracy, 2)))\n",
    "print('GBM 수행 시간: {0:.1f} 초'.format(time.time()-start_time))"
   ]
  },
  {
   "cell_type": "markdown",
   "metadata": {},
   "source": [
    "### Wine - XGBoost"
   ]
  },
  {
   "cell_type": "markdown",
   "metadata": {},
   "source": [
    "- xgboostclassifier를 이용하여 wine data 분류 모델을 만들어 성능을 적고 ( 성능 : ?     )[소수점 둘째자리까지]\n",
    "- plot_importance를 사용하여 중요한 피처 4개를 순서대로 나열하라(?-?-?-?)"
   ]
  },
  {
   "cell_type": "code",
   "execution_count": 31,
   "metadata": {},
   "outputs": [
    {
     "name": "stdout",
     "output_type": "stream",
     "text": [
      "성능 :  0.96\n"
     ]
    }
   ],
   "source": [
    "# xgboost\n",
    "\n",
    "xgb_clf = XGBClassifier(random_state=0)\n",
    "xgb_clf.fit(X_train, y_train)\n",
    "xgb_pred = xgb_clf.predict(X_test)\n",
    "\n",
    "\n",
    "\n",
    "print('성능 : ', round(accuracy_score(y_test , xgb_pred), 2))"
   ]
  },
  {
   "cell_type": "code",
   "execution_count": 32,
   "metadata": {
    "scrolled": true
   },
   "outputs": [
    {
     "name": "stdout",
     "output_type": "stream",
     "text": [
      "[0]\tvalidation_0-merror:0.037037\n",
      "Will train until validation_0-merror hasn't improved in 100 rounds.\n",
      "[1]\tvalidation_0-merror:0.037037\n",
      "[2]\tvalidation_0-merror:0.037037\n",
      "[3]\tvalidation_0-merror:0.037037\n",
      "[4]\tvalidation_0-merror:0.037037\n",
      "[5]\tvalidation_0-merror:0.037037\n",
      "[6]\tvalidation_0-merror:0.037037\n",
      "[7]\tvalidation_0-merror:0.037037\n",
      "[8]\tvalidation_0-merror:0.037037\n",
      "[9]\tvalidation_0-merror:0.037037\n",
      "[10]\tvalidation_0-merror:0.037037\n",
      "[11]\tvalidation_0-merror:0.037037\n",
      "[12]\tvalidation_0-merror:0.037037\n",
      "[13]\tvalidation_0-merror:0.037037\n",
      "[14]\tvalidation_0-merror:0.037037\n",
      "[15]\tvalidation_0-merror:0.037037\n",
      "[16]\tvalidation_0-merror:0.037037\n",
      "[17]\tvalidation_0-merror:0.037037\n",
      "[18]\tvalidation_0-merror:0.037037\n",
      "[19]\tvalidation_0-merror:0.037037\n",
      "[20]\tvalidation_0-merror:0.037037\n",
      "[21]\tvalidation_0-merror:0.037037\n",
      "[22]\tvalidation_0-merror:0.037037\n",
      "[23]\tvalidation_0-merror:0.037037\n",
      "[24]\tvalidation_0-merror:0.037037\n",
      "[25]\tvalidation_0-merror:0.037037\n",
      "[26]\tvalidation_0-merror:0.037037\n",
      "[27]\tvalidation_0-merror:0.037037\n",
      "[28]\tvalidation_0-merror:0.037037\n",
      "[29]\tvalidation_0-merror:0.037037\n",
      "[30]\tvalidation_0-merror:0.037037\n",
      "[31]\tvalidation_0-merror:0.037037\n",
      "[32]\tvalidation_0-merror:0.037037\n",
      "[33]\tvalidation_0-merror:0.037037\n",
      "[34]\tvalidation_0-merror:0.037037\n",
      "[35]\tvalidation_0-merror:0.037037\n",
      "[36]\tvalidation_0-merror:0.037037\n",
      "[37]\tvalidation_0-merror:0.037037\n",
      "[38]\tvalidation_0-merror:0.037037\n",
      "[39]\tvalidation_0-merror:0.037037\n",
      "[40]\tvalidation_0-merror:0.037037\n",
      "[41]\tvalidation_0-merror:0.037037\n",
      "[42]\tvalidation_0-merror:0.037037\n",
      "[43]\tvalidation_0-merror:0.037037\n",
      "[44]\tvalidation_0-merror:0.037037\n",
      "[45]\tvalidation_0-merror:0.037037\n",
      "[46]\tvalidation_0-merror:0.037037\n",
      "[47]\tvalidation_0-merror:0.037037\n",
      "[48]\tvalidation_0-merror:0.037037\n",
      "[49]\tvalidation_0-merror:0.037037\n",
      "[50]\tvalidation_0-merror:0.037037\n",
      "[51]\tvalidation_0-merror:0.037037\n",
      "[52]\tvalidation_0-merror:0.037037\n",
      "[53]\tvalidation_0-merror:0.037037\n",
      "[54]\tvalidation_0-merror:0.037037\n",
      "[55]\tvalidation_0-merror:0.037037\n",
      "[56]\tvalidation_0-merror:0.037037\n",
      "[57]\tvalidation_0-merror:0.037037\n",
      "[58]\tvalidation_0-merror:0.037037\n",
      "[59]\tvalidation_0-merror:0.037037\n",
      "[60]\tvalidation_0-merror:0.037037\n",
      "[61]\tvalidation_0-merror:0.037037\n",
      "[62]\tvalidation_0-merror:0.037037\n",
      "[63]\tvalidation_0-merror:0.037037\n",
      "[64]\tvalidation_0-merror:0.037037\n",
      "[65]\tvalidation_0-merror:0.037037\n",
      "[66]\tvalidation_0-merror:0.037037\n",
      "[67]\tvalidation_0-merror:0.037037\n",
      "[68]\tvalidation_0-merror:0.037037\n",
      "[69]\tvalidation_0-merror:0.037037\n",
      "[70]\tvalidation_0-merror:0.037037\n",
      "[71]\tvalidation_0-merror:0.037037\n",
      "[72]\tvalidation_0-merror:0.037037\n",
      "[73]\tvalidation_0-merror:0.037037\n",
      "[74]\tvalidation_0-merror:0.037037\n",
      "[75]\tvalidation_0-merror:0.037037\n",
      "[76]\tvalidation_0-merror:0.037037\n",
      "[77]\tvalidation_0-merror:0.037037\n",
      "[78]\tvalidation_0-merror:0.037037\n",
      "[79]\tvalidation_0-merror:0.037037\n",
      "[80]\tvalidation_0-merror:0.037037\n",
      "[81]\tvalidation_0-merror:0.037037\n",
      "[82]\tvalidation_0-merror:0.037037\n",
      "[83]\tvalidation_0-merror:0.037037\n",
      "[84]\tvalidation_0-merror:0.037037\n",
      "[85]\tvalidation_0-merror:0.037037\n",
      "[86]\tvalidation_0-merror:0.037037\n",
      "[87]\tvalidation_0-merror:0.037037\n",
      "[88]\tvalidation_0-merror:0.037037\n",
      "[89]\tvalidation_0-merror:0.037037\n",
      "[90]\tvalidation_0-merror:0.037037\n",
      "[91]\tvalidation_0-merror:0.037037\n",
      "[92]\tvalidation_0-merror:0.037037\n",
      "[93]\tvalidation_0-merror:0.037037\n",
      "[94]\tvalidation_0-merror:0.037037\n",
      "[95]\tvalidation_0-merror:0.037037\n",
      "[96]\tvalidation_0-merror:0.037037\n",
      "[97]\tvalidation_0-merror:0.037037\n",
      "[98]\tvalidation_0-merror:0.037037\n",
      "[99]\tvalidation_0-merror:0.037037\n",
      "[100]\tvalidation_0-merror:0.037037\n",
      "Stopping. Best iteration:\n",
      "[0]\tvalidation_0-merror:0.037037\n",
      "\n"
     ]
    }
   ],
   "source": [
    "# plot_importance graph\n",
    "\n",
    "xgb_wrapper = XGBClassifier(n_estimators=400, learning_rate=0.1, max_depth=3)\n",
    "evals = [(X_test, y_test)]\n",
    "xgb_wrapper.fit(X_train, y_train, eval_set=evals, verbose=True, early_stopping_rounds=100)\n",
    "w_preds=xgb_wrapper.predict(X_test)"
   ]
  },
  {
   "cell_type": "code",
   "execution_count": 33,
   "metadata": {},
   "outputs": [
    {
     "data": {
      "text/plain": [
       "<matplotlib.axes._subplots.AxesSubplot at 0x1a1c43acf8>"
      ]
     },
     "execution_count": 33,
     "metadata": {},
     "output_type": "execute_result"
    },
    {
     "data": {
      "image/png": "[encoded data removed]",
      "text/plain": [
       "<Figure size 720x864 with 1 Axes>"
      ]
     },
     "metadata": {
      "needs_background": "light"
     },
     "output_type": "display_data"
    }
   ],
   "source": [
    "f, ax = plt.subplots(figsize=(10, 12))\n",
    "plot_importance(xgb_wrapper, ax=ax)"
   ]
  },
  {
   "cell_type": "markdown",
   "metadata": {},
   "source": [
    "### Wine - LightGBM"
   ]
  },
  {
   "cell_type": "markdown",
   "metadata": {},
   "source": [
    "- LightGBM을 이용하여 wine data 분류 모델을 만들었을 때 성능은? ( 성능 :   ?   )[소수점 둘째자리까지]"
   ]
  },
  {
   "cell_type": "code",
   "execution_count": 34,
   "metadata": {},
   "outputs": [
    {
     "name": "stdout",
     "output_type": "stream",
     "text": [
      "성능 :  0.94\n"
     ]
    }
   ],
   "source": [
    "# lgbm\n",
    "\n",
    "lgbm = LGBMClassifier(random_state=0)\n",
    "lgbm.fit(X_train, y_train)\n",
    "lgbm_pred = lgbm.predict(X_test)\n",
    "\n",
    "\n",
    "print('성능 : ', round(accuracy_score(y_test , lgbm_pred), 2))"
   ]
  }
 ],
 "metadata": {
  "kernelspec": {
   "display_name": "Python 3",
   "language": "python",
   "name": "python3"
  },
  "language_info": {
   "codemirror_mode": {
    "name": "ipython",
    "version": 3
   },
   "file_extension": ".py",
   "mimetype": "text/x-python",
   "name": "python",
   "nbconvert_exporter": "python",
   "pygments_lexer": "ipython3",
   "version": "3.7.3"
  }
 },
 "nbformat": 4,
 "nbformat_minor": 2
}
