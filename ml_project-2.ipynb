{
 "cells": [
  {
   "cell_type": "markdown",
   "metadata": {},
   "source": [
    "# Libraries"
   ]
  },
  {
   "cell_type": "code",
   "execution_count": 1,
   "metadata": {},
   "outputs": [
    {
     "name": "stderr",
     "output_type": "stream",
     "text": [
      "/anaconda3/lib/python3.7/site-packages/lightgbm/__init__.py:46: UserWarning: Starting from version 2.2.1, the library file in distribution wheels for macOS is built by the Apple Clang (Xcode_8.3.3) compiler.\n",
      "This means that in case of installing LightGBM from PyPI via the ``pip install lightgbm`` command, you don't need to install the gcc compiler anymore.\n",
      "Instead of that, you need to install the OpenMP library, which is required for running LightGBM on the system with the Apple Clang compiler.\n",
      "You can install the OpenMP library by the following command: ``brew install libomp``.\n",
      "  \"You can install the OpenMP library by the following command: ``brew install libomp``.\", UserWarning)\n"
     ]
    }
   ],
   "source": [
    "import os\n",
    "import random\n",
    "import numpy as np\n",
    "import pandas as pd\n",
    "import pickle\n",
    "import gc\n",
    "\n",
    "import lightgbm as lgb\n",
    "from sklearn.ensemble import RandomForestClassifier\n",
    "from sklearn.model_selection import train_test_split, StratifiedKFold, KFold\n",
    "from sklearn.metrics import accuracy_score, confusion_matrix"
   ]
  },
  {
   "cell_type": "code",
   "execution_count": 2,
   "metadata": {},
   "outputs": [],
   "source": [
    "def seed_everything(seed=0):\n",
    "    random.seed(seed)\n",
    "    os.environ['PYTHONHASHSEED'] = str(seed)\n",
    "    np.random.seed(seed)\n",
    "    \n",
    "SEED = 2019\n",
    "seed_everything(SEED)"
   ]
  },
  {
   "cell_type": "markdown",
   "metadata": {},
   "source": [
    "# Preprocess"
   ]
  },
  {
   "cell_type": "markdown",
   "metadata": {},
   "source": [
    "## create dataframe"
   ]
  },
  {
   "cell_type": "code",
   "execution_count": 4,
   "metadata": {},
   "outputs": [],
   "source": [
    "DATASET_PATH = './dataset/'\n",
    "actions = ['cClockwise', 'clockwise', 'left2right', 'right2left', 'up2down']\n",
    "\n",
    "for action in actions:\n",
    "    all_data = []\n",
    "    \n",
    "    for example in os.listdir(DATASET_PATH + action):\n",
    "        \n",
    "        # example == 1.txt\n",
    "        # action == cClockwise\n",
    "        \n",
    "        with open(DATASET_PATH + action + '/' + example, 'rb') as f:\n",
    "            data = pickle.load(f)\n",
    "            all_data.append(np.array(data).flatten().reshape(1, -1))\n",
    "\n",
    "    data_num = len(all_data)\n",
    "    \n",
    "    # data to dict\n",
    "    data_dict = {}\n",
    "    for i, data in enumerate(all_data):\n",
    "        data_dict[i] = data\n",
    "\n",
    "    # create empty dataframe\n",
    "    columns = [i for i in range(102)]\n",
    "    indices = [i for i in range(data_num)]\n",
    "    df = pd.DataFrame(columns=columns, index=indices)\n",
    "\n",
    "    for i in range(data_num):\n",
    "        df.loc[i] = data_dict[i]\n",
    "\n",
    "    df.to_csv('./dataset/{}.csv'.format(action), index=False)"
   ]
  },
  {
   "cell_type": "code",
   "execution_count": 5,
   "metadata": {},
   "outputs": [
    {
     "data": {
      "text/plain": [
       "['up2down',\n",
       " 'cClockwise',\n",
       " 'clockwise',\n",
       " '.DS_Store',\n",
       " 'right2left_example.csv',\n",
       " 'clockwise_example.csv',\n",
       " 'up2down_example.csv',\n",
       " 'right2left',\n",
       " 'left2right_example.csv',\n",
       " 'cClockwise_example.csv',\n",
       " 'left2right']"
      ]
     },
     "execution_count": 5,
     "metadata": {},
     "output_type": "execute_result"
    }
   ],
   "source": [
    "os.listdir('./dataset/')"
   ]
  },
  {
   "cell_type": "code",
   "execution_count": 6,
   "metadata": {},
   "outputs": [],
   "source": [
    "df1 = pd.read_csv('./dataset/cClockwise.csv')\n",
    "df2 = pd.read_csv('./dataset/clockwise.csv')\n",
    "df3 = pd.read_csv('./dataset/left2right.csv')\n",
    "df4 = pd.read_csv('./dataset/right2left.csv')\n",
    "df5 = pd.read_csv('./dataset/up2down.csv')"
   ]
  },
  {
   "cell_type": "code",
   "execution_count": 7,
   "metadata": {},
   "outputs": [],
   "source": [
    "df1['target'] = 4 # 반시계\n",
    "df2['target'] = 3 # 시계\n",
    "df3['target'] = 2 # 왼오\n",
    "df4['target'] = 1 # 오왼\n",
    "df5['target'] = 0 # 업다운"
   ]
  },
  {
   "cell_type": "code",
   "execution_count": 8,
   "metadata": {},
   "outputs": [
    {
     "data": {
      "text/plain": [
       "((1000, 103), (1007, 103), (1000, 103), (1006, 103), (1012, 103))"
      ]
     },
     "execution_count": 8,
     "metadata": {},
     "output_type": "execute_result"
    }
   ],
   "source": [
    "df1.shape, df2.shape, df3.shape, df4.shape, df5.shape"
   ]
  },
  {
   "cell_type": "code",
   "execution_count": 9,
   "metadata": {},
   "outputs": [],
   "source": [
    "df = pd.concat([df1, df2], axis=0)\n",
    "df = pd.concat([df, df3], axis=0)\n",
    "df = pd.concat([df, df4], axis=0)\n",
    "df = pd.concat([df, df5], axis=0)"
   ]
  },
  {
   "cell_type": "code",
   "execution_count": 10,
   "metadata": {},
   "outputs": [
    {
     "data": {
      "text/plain": [
       "0    1012\n",
       "3    1007\n",
       "1    1006\n",
       "2    1000\n",
       "4    1000\n",
       "Name: target, dtype: int64"
      ]
     },
     "execution_count": 10,
     "metadata": {},
     "output_type": "execute_result"
    }
   ],
   "source": [
    "df['target'].value_counts()"
   ]
  },
  {
   "cell_type": "markdown",
   "metadata": {},
   "source": [
    "## train, test split"
   ]
  },
  {
   "cell_type": "code",
   "execution_count": 11,
   "metadata": {},
   "outputs": [],
   "source": [
    "# shuffle dataframe before splitting train, test\n",
    "df = df.sample(frac=1)"
   ]
  },
  {
   "cell_type": "code",
   "execution_count": 12,
   "metadata": {},
   "outputs": [],
   "source": [
    "df = df.reset_index(drop=True)"
   ]
  },
  {
   "cell_type": "code",
   "execution_count": 13,
   "metadata": {},
   "outputs": [],
   "source": [
    "# 80% train set, 20% test set\n",
    "train_num = int(len(df)*0.8)"
   ]
  },
  {
   "cell_type": "code",
   "execution_count": 14,
   "metadata": {},
   "outputs": [],
   "source": [
    "train_df = df[:train_num]\n",
    "test_df = df[train_num:]"
   ]
  },
  {
   "cell_type": "code",
   "execution_count": 15,
   "metadata": {},
   "outputs": [
    {
     "data": {
      "text/plain": [
       "((4020, 103), (1005, 103))"
      ]
     },
     "execution_count": 15,
     "metadata": {},
     "output_type": "execute_result"
    }
   ],
   "source": [
    "train_df.shape, test_df.shape"
   ]
  },
  {
   "cell_type": "code",
   "execution_count": 16,
   "metadata": {},
   "outputs": [
    {
     "data": {
      "text/plain": [
       "2    812\n",
       "3    810\n",
       "4    809\n",
       "0    804\n",
       "1    785\n",
       "Name: target, dtype: int64"
      ]
     },
     "execution_count": 16,
     "metadata": {},
     "output_type": "execute_result"
    }
   ],
   "source": [
    "train_df['target'].value_counts()"
   ]
  },
  {
   "cell_type": "code",
   "execution_count": 17,
   "metadata": {},
   "outputs": [
    {
     "data": {
      "text/plain": [
       "1    221\n",
       "0    208\n",
       "3    197\n",
       "4    191\n",
       "2    188\n",
       "Name: target, dtype: int64"
      ]
     },
     "execution_count": 17,
     "metadata": {},
     "output_type": "execute_result"
    }
   ],
   "source": [
    "test_df['target'].value_counts()"
   ]
  },
  {
   "cell_type": "markdown",
   "metadata": {},
   "source": [
    "- 대략 골고루 들어간 것을 확인"
   ]
  },
  {
   "cell_type": "markdown",
   "metadata": {},
   "source": [
    "# Training"
   ]
  },
  {
   "cell_type": "code",
   "execution_count": 18,
   "metadata": {},
   "outputs": [],
   "source": [
    "# example of randomforest\n",
    "# X = df.iloc[:, :-1]\n",
    "# y = df['target']\n",
    "\n",
    "# X_train, X_test, y_train, y_test = train_test_split(X, y, test_size=0.2, shuffle=True, random_state=2019)\n",
    "\n",
    "# model = RandomForestClassifier(n_estimators=200, random_state=2019)\n",
    "\n",
    "# model.fit(X_train, y_train)\n",
    "\n",
    "# result = model.predict(X_test)\n",
    "\n",
    "# accuracy_score(result, y_test)"
   ]
  },
  {
   "cell_type": "code",
   "execution_count": 19,
   "metadata": {},
   "outputs": [],
   "source": [
    "num_classes = train_df['target'].nunique()\n",
    "X = train_df.iloc[:, :-1]\n",
    "y = train_df['target']"
   ]
  },
  {
   "cell_type": "code",
   "execution_count": 20,
   "metadata": {},
   "outputs": [],
   "source": [
    "params = {\n",
    "          \"objective\" : \"multiclass\",\n",
    "          \"num_class\" : num_classes,\n",
    "          \"num_leaves\" : 2 ** 8,\n",
    "          \"max_depth\": 5,\n",
    "          \"learning_rate\" : 0.01,\n",
    "          \"bagging_fraction\" : 0.9,  # subsample\n",
    "          \"feature_fraction\" : 0.9,  # colsample_bytree\n",
    "          \"bagging_freq\" : 2,        # subsample_freq\n",
    "          \"verbosity\" : -1\n",
    "}"
   ]
  },
  {
   "cell_type": "code",
   "execution_count": 21,
   "metadata": {
    "scrolled": true
   },
   "outputs": [
    {
     "name": "stdout",
     "output_type": "stream",
     "text": [
      "Fold: 0\n",
      "Training until validation scores don't improve for 20 rounds.\n",
      "[100]\ttraining's multi_logloss: 0.532695\tvalid_1's multi_logloss: 0.573796\n",
      "[200]\ttraining's multi_logloss: 0.210907\tvalid_1's multi_logloss: 0.257586\n",
      "[300]\ttraining's multi_logloss: 0.0881561\tvalid_1's multi_logloss: 0.132501\n",
      "[400]\ttraining's multi_logloss: 0.0377901\tvalid_1's multi_logloss: 0.0794044\n",
      "[500]\ttraining's multi_logloss: 0.0159759\tvalid_1's multi_logloss: 0.0556582\n",
      "[600]\ttraining's multi_logloss: 0.00684311\tvalid_1's multi_logloss: 0.0445372\n",
      "[700]\ttraining's multi_logloss: 0.00296053\tvalid_1's multi_logloss: 0.0389563\n",
      "[800]\ttraining's multi_logloss: 0.0012947\tvalid_1's multi_logloss: 0.0354611\n",
      "[900]\ttraining's multi_logloss: 0.000569325\tvalid_1's multi_logloss: 0.0328597\n",
      "[1000]\ttraining's multi_logloss: 0.000253241\tvalid_1's multi_logloss: 0.0312174\n",
      "Did not meet early stopping. Best iteration is:\n",
      "[1000]\ttraining's multi_logloss: 0.000253241\tvalid_1's multi_logloss: 0.0312174\n",
      "\n",
      "\n",
      "Fold: 1\n",
      "Training until validation scores don't improve for 20 rounds.\n",
      "[100]\ttraining's multi_logloss: 0.534172\tvalid_1's multi_logloss: 0.566563\n",
      "[200]\ttraining's multi_logloss: 0.211787\tvalid_1's multi_logloss: 0.245975\n",
      "[300]\ttraining's multi_logloss: 0.0879523\tvalid_1's multi_logloss: 0.118687\n",
      "[400]\ttraining's multi_logloss: 0.0375493\tvalid_1's multi_logloss: 0.0648749\n",
      "[500]\ttraining's multi_logloss: 0.0161747\tvalid_1's multi_logloss: 0.0406355\n",
      "[600]\ttraining's multi_logloss: 0.0070143\tvalid_1's multi_logloss: 0.0291707\n",
      "[700]\ttraining's multi_logloss: 0.00305363\tvalid_1's multi_logloss: 0.0234536\n",
      "[800]\ttraining's multi_logloss: 0.00133836\tvalid_1's multi_logloss: 0.0208286\n",
      "[900]\ttraining's multi_logloss: 0.000587091\tvalid_1's multi_logloss: 0.0188835\n",
      "[1000]\ttraining's multi_logloss: 0.000260218\tvalid_1's multi_logloss: 0.0178515\n",
      "Did not meet early stopping. Best iteration is:\n",
      "[1000]\ttraining's multi_logloss: 0.000260218\tvalid_1's multi_logloss: 0.0178515\n",
      "\n",
      "\n",
      "Fold: 2\n",
      "Training until validation scores don't improve for 20 rounds.\n",
      "[100]\ttraining's multi_logloss: 0.535981\tvalid_1's multi_logloss: 0.547596\n",
      "[200]\ttraining's multi_logloss: 0.212939\tvalid_1's multi_logloss: 0.228557\n",
      "[300]\ttraining's multi_logloss: 0.0897832\tvalid_1's multi_logloss: 0.10605\n",
      "[400]\ttraining's multi_logloss: 0.0390221\tvalid_1's multi_logloss: 0.0545249\n",
      "[500]\ttraining's multi_logloss: 0.0167572\tvalid_1's multi_logloss: 0.0322488\n",
      "[600]\ttraining's multi_logloss: 0.00723512\tvalid_1's multi_logloss: 0.0222198\n",
      "[700]\ttraining's multi_logloss: 0.00317401\tvalid_1's multi_logloss: 0.0177946\n",
      "[800]\ttraining's multi_logloss: 0.00139727\tvalid_1's multi_logloss: 0.0159058\n",
      "[900]\ttraining's multi_logloss: 0.000619597\tvalid_1's multi_logloss: 0.0149938\n",
      "Early stopping, best iteration is:\n",
      "[906]\ttraining's multi_logloss: 0.000589321\tvalid_1's multi_logloss: 0.0149558\n",
      "\n",
      "\n",
      "Fold: 3\n",
      "Training until validation scores don't improve for 20 rounds.\n",
      "[100]\ttraining's multi_logloss: 0.53472\tvalid_1's multi_logloss: 0.559221\n",
      "[200]\ttraining's multi_logloss: 0.21201\tvalid_1's multi_logloss: 0.241413\n",
      "[300]\ttraining's multi_logloss: 0.0887332\tvalid_1's multi_logloss: 0.117326\n",
      "[400]\ttraining's multi_logloss: 0.0382177\tvalid_1's multi_logloss: 0.0652872\n",
      "[500]\ttraining's multi_logloss: 0.0162775\tvalid_1's multi_logloss: 0.0428856\n",
      "[600]\ttraining's multi_logloss: 0.00699841\tvalid_1's multi_logloss: 0.0330257\n",
      "[700]\ttraining's multi_logloss: 0.00305731\tvalid_1's multi_logloss: 0.0292144\n",
      "Early stopping, best iteration is:\n",
      "[764]\ttraining's multi_logloss: 0.00181573\tvalid_1's multi_logloss: 0.0284883\n",
      "\n",
      "\n",
      "Fold: 4\n",
      "Training until validation scores don't improve for 20 rounds.\n",
      "[100]\ttraining's multi_logloss: 0.530826\tvalid_1's multi_logloss: 0.562487\n",
      "[200]\ttraining's multi_logloss: 0.209994\tvalid_1's multi_logloss: 0.246043\n",
      "[300]\ttraining's multi_logloss: 0.0871585\tvalid_1's multi_logloss: 0.120086\n",
      "[400]\ttraining's multi_logloss: 0.037296\tvalid_1's multi_logloss: 0.0672367\n",
      "[500]\ttraining's multi_logloss: 0.0159789\tvalid_1's multi_logloss: 0.0443369\n",
      "[600]\ttraining's multi_logloss: 0.00688791\tvalid_1's multi_logloss: 0.0342312\n",
      "[700]\ttraining's multi_logloss: 0.00299847\tvalid_1's multi_logloss: 0.0295478\n",
      "[800]\ttraining's multi_logloss: 0.00131516\tvalid_1's multi_logloss: 0.0268271\n",
      "[900]\ttraining's multi_logloss: 0.00058643\tvalid_1's multi_logloss: 0.0257566\n",
      "Early stopping, best iteration is:\n",
      "[927]\ttraining's multi_logloss: 0.000471262\tvalid_1's multi_logloss: 0.0255395\n",
      "\n",
      "\n"
     ]
    }
   ],
   "source": [
    "NFOLDS = 5\n",
    "folds = StratifiedKFold(n_splits=NFOLDS, shuffle=True, random_state=SEED)\n",
    "models = []\n",
    "for fold_, (trn_idx, val_idx) in enumerate(folds.split(X, y)):\n",
    "    print('Fold:',fold_)\n",
    "    tr_x, tr_y = X.iloc[trn_idx,:], y.iloc[trn_idx]\n",
    "    vl_x, vl_y = X.iloc[val_idx,:], y.iloc[val_idx]\n",
    "\n",
    "    lgb_train, lgb_valid = lgb.Dataset(tr_x, tr_y), lgb.Dataset(vl_x, vl_y)\n",
    "    model = lgb.train(params, lgb_train, 1000, valid_sets=[lgb_train, lgb_valid], verbose_eval=100, early_stopping_rounds=20)\n",
    "    models.append(model)\n",
    "    print('\\n')\n",
    "    del model, tr_x, tr_y, vl_x, vl_y, lgb_train, lgb_valid\n",
    "    gc.collect()"
   ]
  },
  {
   "cell_type": "markdown",
   "metadata": {},
   "source": [
    "# Inference"
   ]
  },
  {
   "cell_type": "code",
   "execution_count": 22,
   "metadata": {},
   "outputs": [],
   "source": [
    "X_test = test_df.iloc[:, :-1]\n",
    "y_test = test_df['target']"
   ]
  },
  {
   "cell_type": "code",
   "execution_count": 23,
   "metadata": {},
   "outputs": [],
   "source": [
    "predictions = []\n",
    "for model in models:\n",
    "    prediction = model.predict(X_test, num_iteration=model.best_iteration)\n",
    "    predictions.append(prediction)"
   ]
  },
  {
   "cell_type": "code",
   "execution_count": 24,
   "metadata": {},
   "outputs": [],
   "source": [
    "predictions = np.mean(predictions, axis=0)\n",
    "predictions = np.argmax(predictions, axis=1)"
   ]
  },
  {
   "cell_type": "code",
   "execution_count": 25,
   "metadata": {},
   "outputs": [
    {
     "name": "stdout",
     "output_type": "stream",
     "text": [
      "정확도: 0.9900497512437811\n"
     ]
    }
   ],
   "source": [
    "print(\"정확도: {}\".format(accuracy_score(predictions, y_test)))"
   ]
  },
  {
   "cell_type": "code",
   "execution_count": 26,
   "metadata": {},
   "outputs": [],
   "source": [
    "result = pd.DataFrame(y_test).reset_index(drop=True)\n",
    "result['prediction'] = predictions"
   ]
  },
  {
   "cell_type": "code",
   "execution_count": 27,
   "metadata": {},
   "outputs": [
    {
     "data": {
      "text/html": [
       "<div>\n",
       "<style scoped>\n",
       "    .dataframe tbody tr th:only-of-type {\n",
       "        vertical-align: middle;\n",
       "    }\n",
       "\n",
       "    .dataframe tbody tr th {\n",
       "        vertical-align: top;\n",
       "    }\n",
       "\n",
       "    .dataframe thead th {\n",
       "        text-align: right;\n",
       "    }\n",
       "</style>\n",
       "<table border=\"1\" class=\"dataframe\">\n",
       "  <thead>\n",
       "    <tr style=\"text-align: right;\">\n",
       "      <th></th>\n",
       "      <th>target</th>\n",
       "      <th>prediction</th>\n",
       "    </tr>\n",
       "  </thead>\n",
       "  <tbody>\n",
       "    <tr>\n",
       "      <th>0</th>\n",
       "      <td>0</td>\n",
       "      <td>0</td>\n",
       "    </tr>\n",
       "    <tr>\n",
       "      <th>1</th>\n",
       "      <td>1</td>\n",
       "      <td>1</td>\n",
       "    </tr>\n",
       "    <tr>\n",
       "      <th>2</th>\n",
       "      <td>4</td>\n",
       "      <td>4</td>\n",
       "    </tr>\n",
       "    <tr>\n",
       "      <th>3</th>\n",
       "      <td>0</td>\n",
       "      <td>0</td>\n",
       "    </tr>\n",
       "    <tr>\n",
       "      <th>4</th>\n",
       "      <td>4</td>\n",
       "      <td>4</td>\n",
       "    </tr>\n",
       "    <tr>\n",
       "      <th>5</th>\n",
       "      <td>1</td>\n",
       "      <td>1</td>\n",
       "    </tr>\n",
       "    <tr>\n",
       "      <th>6</th>\n",
       "      <td>3</td>\n",
       "      <td>3</td>\n",
       "    </tr>\n",
       "    <tr>\n",
       "      <th>7</th>\n",
       "      <td>0</td>\n",
       "      <td>0</td>\n",
       "    </tr>\n",
       "    <tr>\n",
       "      <th>8</th>\n",
       "      <td>0</td>\n",
       "      <td>0</td>\n",
       "    </tr>\n",
       "    <tr>\n",
       "      <th>9</th>\n",
       "      <td>2</td>\n",
       "      <td>2</td>\n",
       "    </tr>\n",
       "    <tr>\n",
       "      <th>10</th>\n",
       "      <td>2</td>\n",
       "      <td>2</td>\n",
       "    </tr>\n",
       "    <tr>\n",
       "      <th>11</th>\n",
       "      <td>1</td>\n",
       "      <td>1</td>\n",
       "    </tr>\n",
       "    <tr>\n",
       "      <th>12</th>\n",
       "      <td>1</td>\n",
       "      <td>1</td>\n",
       "    </tr>\n",
       "    <tr>\n",
       "      <th>13</th>\n",
       "      <td>0</td>\n",
       "      <td>0</td>\n",
       "    </tr>\n",
       "    <tr>\n",
       "      <th>14</th>\n",
       "      <td>4</td>\n",
       "      <td>4</td>\n",
       "    </tr>\n",
       "    <tr>\n",
       "      <th>15</th>\n",
       "      <td>3</td>\n",
       "      <td>3</td>\n",
       "    </tr>\n",
       "    <tr>\n",
       "      <th>16</th>\n",
       "      <td>3</td>\n",
       "      <td>3</td>\n",
       "    </tr>\n",
       "    <tr>\n",
       "      <th>17</th>\n",
       "      <td>0</td>\n",
       "      <td>0</td>\n",
       "    </tr>\n",
       "    <tr>\n",
       "      <th>18</th>\n",
       "      <td>4</td>\n",
       "      <td>4</td>\n",
       "    </tr>\n",
       "    <tr>\n",
       "      <th>19</th>\n",
       "      <td>1</td>\n",
       "      <td>1</td>\n",
       "    </tr>\n",
       "    <tr>\n",
       "      <th>20</th>\n",
       "      <td>0</td>\n",
       "      <td>0</td>\n",
       "    </tr>\n",
       "    <tr>\n",
       "      <th>21</th>\n",
       "      <td>0</td>\n",
       "      <td>0</td>\n",
       "    </tr>\n",
       "    <tr>\n",
       "      <th>22</th>\n",
       "      <td>3</td>\n",
       "      <td>3</td>\n",
       "    </tr>\n",
       "    <tr>\n",
       "      <th>23</th>\n",
       "      <td>0</td>\n",
       "      <td>0</td>\n",
       "    </tr>\n",
       "    <tr>\n",
       "      <th>24</th>\n",
       "      <td>1</td>\n",
       "      <td>1</td>\n",
       "    </tr>\n",
       "    <tr>\n",
       "      <th>25</th>\n",
       "      <td>0</td>\n",
       "      <td>0</td>\n",
       "    </tr>\n",
       "    <tr>\n",
       "      <th>26</th>\n",
       "      <td>2</td>\n",
       "      <td>2</td>\n",
       "    </tr>\n",
       "    <tr>\n",
       "      <th>27</th>\n",
       "      <td>1</td>\n",
       "      <td>1</td>\n",
       "    </tr>\n",
       "    <tr>\n",
       "      <th>28</th>\n",
       "      <td>3</td>\n",
       "      <td>3</td>\n",
       "    </tr>\n",
       "    <tr>\n",
       "      <th>29</th>\n",
       "      <td>0</td>\n",
       "      <td>0</td>\n",
       "    </tr>\n",
       "    <tr>\n",
       "      <th>...</th>\n",
       "      <td>...</td>\n",
       "      <td>...</td>\n",
       "    </tr>\n",
       "    <tr>\n",
       "      <th>975</th>\n",
       "      <td>3</td>\n",
       "      <td>3</td>\n",
       "    </tr>\n",
       "    <tr>\n",
       "      <th>976</th>\n",
       "      <td>1</td>\n",
       "      <td>1</td>\n",
       "    </tr>\n",
       "    <tr>\n",
       "      <th>977</th>\n",
       "      <td>0</td>\n",
       "      <td>0</td>\n",
       "    </tr>\n",
       "    <tr>\n",
       "      <th>978</th>\n",
       "      <td>2</td>\n",
       "      <td>2</td>\n",
       "    </tr>\n",
       "    <tr>\n",
       "      <th>979</th>\n",
       "      <td>4</td>\n",
       "      <td>4</td>\n",
       "    </tr>\n",
       "    <tr>\n",
       "      <th>980</th>\n",
       "      <td>0</td>\n",
       "      <td>0</td>\n",
       "    </tr>\n",
       "    <tr>\n",
       "      <th>981</th>\n",
       "      <td>4</td>\n",
       "      <td>4</td>\n",
       "    </tr>\n",
       "    <tr>\n",
       "      <th>982</th>\n",
       "      <td>0</td>\n",
       "      <td>0</td>\n",
       "    </tr>\n",
       "    <tr>\n",
       "      <th>983</th>\n",
       "      <td>3</td>\n",
       "      <td>3</td>\n",
       "    </tr>\n",
       "    <tr>\n",
       "      <th>984</th>\n",
       "      <td>1</td>\n",
       "      <td>1</td>\n",
       "    </tr>\n",
       "    <tr>\n",
       "      <th>985</th>\n",
       "      <td>0</td>\n",
       "      <td>0</td>\n",
       "    </tr>\n",
       "    <tr>\n",
       "      <th>986</th>\n",
       "      <td>0</td>\n",
       "      <td>0</td>\n",
       "    </tr>\n",
       "    <tr>\n",
       "      <th>987</th>\n",
       "      <td>2</td>\n",
       "      <td>2</td>\n",
       "    </tr>\n",
       "    <tr>\n",
       "      <th>988</th>\n",
       "      <td>3</td>\n",
       "      <td>3</td>\n",
       "    </tr>\n",
       "    <tr>\n",
       "      <th>989</th>\n",
       "      <td>0</td>\n",
       "      <td>0</td>\n",
       "    </tr>\n",
       "    <tr>\n",
       "      <th>990</th>\n",
       "      <td>4</td>\n",
       "      <td>4</td>\n",
       "    </tr>\n",
       "    <tr>\n",
       "      <th>991</th>\n",
       "      <td>2</td>\n",
       "      <td>2</td>\n",
       "    </tr>\n",
       "    <tr>\n",
       "      <th>992</th>\n",
       "      <td>1</td>\n",
       "      <td>1</td>\n",
       "    </tr>\n",
       "    <tr>\n",
       "      <th>993</th>\n",
       "      <td>0</td>\n",
       "      <td>0</td>\n",
       "    </tr>\n",
       "    <tr>\n",
       "      <th>994</th>\n",
       "      <td>3</td>\n",
       "      <td>3</td>\n",
       "    </tr>\n",
       "    <tr>\n",
       "      <th>995</th>\n",
       "      <td>3</td>\n",
       "      <td>3</td>\n",
       "    </tr>\n",
       "    <tr>\n",
       "      <th>996</th>\n",
       "      <td>4</td>\n",
       "      <td>4</td>\n",
       "    </tr>\n",
       "    <tr>\n",
       "      <th>997</th>\n",
       "      <td>2</td>\n",
       "      <td>2</td>\n",
       "    </tr>\n",
       "    <tr>\n",
       "      <th>998</th>\n",
       "      <td>4</td>\n",
       "      <td>4</td>\n",
       "    </tr>\n",
       "    <tr>\n",
       "      <th>999</th>\n",
       "      <td>2</td>\n",
       "      <td>2</td>\n",
       "    </tr>\n",
       "    <tr>\n",
       "      <th>1000</th>\n",
       "      <td>1</td>\n",
       "      <td>1</td>\n",
       "    </tr>\n",
       "    <tr>\n",
       "      <th>1001</th>\n",
       "      <td>0</td>\n",
       "      <td>0</td>\n",
       "    </tr>\n",
       "    <tr>\n",
       "      <th>1002</th>\n",
       "      <td>1</td>\n",
       "      <td>1</td>\n",
       "    </tr>\n",
       "    <tr>\n",
       "      <th>1003</th>\n",
       "      <td>1</td>\n",
       "      <td>1</td>\n",
       "    </tr>\n",
       "    <tr>\n",
       "      <th>1004</th>\n",
       "      <td>2</td>\n",
       "      <td>2</td>\n",
       "    </tr>\n",
       "  </tbody>\n",
       "</table>\n",
       "<p>1005 rows × 2 columns</p>\n",
       "</div>"
      ],
      "text/plain": [
       "      target  prediction\n",
       "0          0           0\n",
       "1          1           1\n",
       "2          4           4\n",
       "3          0           0\n",
       "4          4           4\n",
       "5          1           1\n",
       "6          3           3\n",
       "7          0           0\n",
       "8          0           0\n",
       "9          2           2\n",
       "10         2           2\n",
       "11         1           1\n",
       "12         1           1\n",
       "13         0           0\n",
       "14         4           4\n",
       "15         3           3\n",
       "16         3           3\n",
       "17         0           0\n",
       "18         4           4\n",
       "19         1           1\n",
       "20         0           0\n",
       "21         0           0\n",
       "22         3           3\n",
       "23         0           0\n",
       "24         1           1\n",
       "25         0           0\n",
       "26         2           2\n",
       "27         1           1\n",
       "28         3           3\n",
       "29         0           0\n",
       "...      ...         ...\n",
       "975        3           3\n",
       "976        1           1\n",
       "977        0           0\n",
       "978        2           2\n",
       "979        4           4\n",
       "980        0           0\n",
       "981        4           4\n",
       "982        0           0\n",
       "983        3           3\n",
       "984        1           1\n",
       "985        0           0\n",
       "986        0           0\n",
       "987        2           2\n",
       "988        3           3\n",
       "989        0           0\n",
       "990        4           4\n",
       "991        2           2\n",
       "992        1           1\n",
       "993        0           0\n",
       "994        3           3\n",
       "995        3           3\n",
       "996        4           4\n",
       "997        2           2\n",
       "998        4           4\n",
       "999        2           2\n",
       "1000       1           1\n",
       "1001       0           0\n",
       "1002       1           1\n",
       "1003       1           1\n",
       "1004       2           2\n",
       "\n",
       "[1005 rows x 2 columns]"
      ]
     },
     "execution_count": 27,
     "metadata": {},
     "output_type": "execute_result"
    }
   ],
   "source": [
    "result"
   ]
  },
  {
   "cell_type": "code",
   "execution_count": 28,
   "metadata": {},
   "outputs": [
    {
     "data": {
      "text/html": [
       "<div>\n",
       "<style scoped>\n",
       "    .dataframe tbody tr th:only-of-type {\n",
       "        vertical-align: middle;\n",
       "    }\n",
       "\n",
       "    .dataframe tbody tr th {\n",
       "        vertical-align: top;\n",
       "    }\n",
       "\n",
       "    .dataframe thead th {\n",
       "        text-align: right;\n",
       "    }\n",
       "</style>\n",
       "<table border=\"1\" class=\"dataframe\">\n",
       "  <thead>\n",
       "    <tr style=\"text-align: right;\">\n",
       "      <th></th>\n",
       "      <th>target</th>\n",
       "      <th>prediction</th>\n",
       "    </tr>\n",
       "  </thead>\n",
       "  <tbody>\n",
       "    <tr>\n",
       "      <th>112</th>\n",
       "      <td>1</td>\n",
       "      <td>2</td>\n",
       "    </tr>\n",
       "    <tr>\n",
       "      <th>136</th>\n",
       "      <td>3</td>\n",
       "      <td>1</td>\n",
       "    </tr>\n",
       "    <tr>\n",
       "      <th>445</th>\n",
       "      <td>3</td>\n",
       "      <td>2</td>\n",
       "    </tr>\n",
       "    <tr>\n",
       "      <th>472</th>\n",
       "      <td>2</td>\n",
       "      <td>4</td>\n",
       "    </tr>\n",
       "    <tr>\n",
       "      <th>788</th>\n",
       "      <td>3</td>\n",
       "      <td>2</td>\n",
       "    </tr>\n",
       "    <tr>\n",
       "      <th>805</th>\n",
       "      <td>3</td>\n",
       "      <td>2</td>\n",
       "    </tr>\n",
       "    <tr>\n",
       "      <th>853</th>\n",
       "      <td>3</td>\n",
       "      <td>0</td>\n",
       "    </tr>\n",
       "    <tr>\n",
       "      <th>892</th>\n",
       "      <td>4</td>\n",
       "      <td>0</td>\n",
       "    </tr>\n",
       "    <tr>\n",
       "      <th>897</th>\n",
       "      <td>3</td>\n",
       "      <td>0</td>\n",
       "    </tr>\n",
       "    <tr>\n",
       "      <th>918</th>\n",
       "      <td>4</td>\n",
       "      <td>1</td>\n",
       "    </tr>\n",
       "  </tbody>\n",
       "</table>\n",
       "</div>"
      ],
      "text/plain": [
       "     target  prediction\n",
       "112       1           2\n",
       "136       3           1\n",
       "445       3           2\n",
       "472       2           4\n",
       "788       3           2\n",
       "805       3           2\n",
       "853       3           0\n",
       "892       4           0\n",
       "897       3           0\n",
       "918       4           1"
      ]
     },
     "execution_count": 28,
     "metadata": {},
     "output_type": "execute_result"
    }
   ],
   "source": [
    "result.loc[result['target'] != result['prediction']]"
   ]
  },
  {
   "cell_type": "code",
   "execution_count": 29,
   "metadata": {},
   "outputs": [
    {
     "data": {
      "text/plain": [
       "array([[208,   0,   0,   0,   0],\n",
       "       [  0, 220,   1,   0,   0],\n",
       "       [  0,   0, 187,   0,   1],\n",
       "       [  2,   1,   3, 191,   0],\n",
       "       [  1,   1,   0,   0, 189]])"
      ]
     },
     "execution_count": 29,
     "metadata": {},
     "output_type": "execute_result"
    }
   ],
   "source": [
    "confusion_matrix(y_test, predictions)"
   ]
  }
 ],
 "metadata": {
  "kernelspec": {
   "display_name": "Python 3",
   "language": "python",
   "name": "python3"
  },
  "language_info": {
   "codemirror_mode": {
    "name": "ipython",
    "version": 3
   },
   "file_extension": ".py",
   "mimetype": "text/x-python",
   "name": "python",
   "nbconvert_exporter": "python",
   "pygments_lexer": "ipython3",
   "version": "3.6.8"
  },
  "toc": {
   "base_numbering": 1,
   "nav_menu": {},
   "number_sections": true,
   "sideBar": true,
   "skip_h1_title": false,
   "title_cell": "Table of Contents",
   "title_sidebar": "Contents",
   "toc_cell": false,
   "toc_position": {},
   "toc_section_display": true,
   "toc_window_display": false
  },
  "varInspector": {
   "cols": {
    "lenName": 16,
    "lenType": 16,
    "lenVar": 40
   },
   "kernels_config": {
    "python": {
     "delete_cmd_postfix": "",
     "delete_cmd_prefix": "del ",
     "library": "var_list.py",
     "varRefreshCmd": "print(var_dic_list())"
    },
    "r": {
     "delete_cmd_postfix": ") ",
     "delete_cmd_prefix": "rm(",
     "library": "var_list.r",
     "varRefreshCmd": "cat(var_dic_list()) "
    }
   },
   "types_to_exclude": [
    "module",
    "function",
    "builtin_function_or_method",
    "instance",
    "_Feature"
   ],
   "window_display": false
  }
 },
 "nbformat": 4,
 "nbformat_minor": 2
}
